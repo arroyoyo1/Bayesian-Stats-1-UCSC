{
 "cells": [
  {
   "cell_type": "markdown",
   "metadata": {},
   "source": [
    "# ***Module 1***\n",
    "\n",
    "> ## **1.1 Probability**\n",
    "***\n",
    "\n",
    "Recall these basic concepts of probability.\n",
    "\n",
    "- Probabilities add to one.\n",
    "\n",
    "- The complement of an event, $A^C$, means that the event does not happen. Since probabilities must add to one, $P(A^C) = 1 − P(A)$.\n",
    "\n",
    "- ***Addition Rule:*** $P(A ∪ B) = P(A) + P(B) − P(A ∩ B)$.\n",
    "\n",
    "- Probabilities can be re-expressed in terms of odds. Suppose that we denote rolling a 4 on a fair six-sided die as the event A. \n",
    "<br>Then $P(A) = 1/6$ and the odds of A are represented as $$O(A) = \\frac{P(A)}{P(A^C)}$$Hence, in this example, $O(A) = \\frac{1/6}{5/6} = 1/5$. <br>This can also be expressed as 1:5 (or 5:1 “odds against”). Thus, an event with probability 3/10 has 3:7 odds (7:3 odds against) and an event with probability 4/5 has 4:1 odds. \n",
    "\n",
    "- Note that we can also calculate probabilities from odds. If an event $B$ has $a:b$ odds (with $a,b > 0$), then: $$\\frac{P(B)}{(1 − P(B)} = \\frac{a}{b} → P(B) · b = a − P(B) · a → P(B) = \\frac{a}{(a + b)}$$Thus, an event with 2:5 odds has probability 2/7.\n",
    "\n",
    "- The expected value of a random variable X is a weighted average of values X can take, with weights given by the probabilities of those values. "
   ]
  }
 ],
 "metadata": {
  "language_info": {
   "name": "python"
  }
 },
 "nbformat": 4,
 "nbformat_minor": 2
}
